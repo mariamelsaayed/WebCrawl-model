{
  "nbformat": 4,
  "nbformat_minor": 0,
  "metadata": {
    "colab": {
      "name": "webcrawler",
      "provenance": [],
      "collapsed_sections": []
    },
    "kernelspec": {
      "name": "python3",
      "display_name": "Python 3"
    }
  },
  "cells": [
    {
      "cell_type": "code",
      "metadata": {
        "id": "iFh_N1x2WQ9J",
        "colab_type": "code",
        "colab": {}
      },
      "source": [
        "import pandas as pd\n",
        "import requests\n",
        "from bs4 import BeautifulSoup\n"
      ],
      "execution_count": 127,
      "outputs": []
    },
    {
      "cell_type": "code",
      "metadata": {
        "id": "ZWOEO2PTbWhn",
        "colab_type": "code",
        "colab": {}
      },
      "source": [
        "def get_page_urls(url):\n",
        "  headers = {\n",
        "    'Access-Control-Allow-Origin': '*',\n",
        "    'Access-Control-Allow-Methods': 'GET',\n",
        "    'Access-Control-Allow-Headers': 'Content-Type',\n",
        "    'Access-Control-Max-Age': '3600',\n",
        "    'User-Agent': 'Mozilla/5.0 (X11; Ubuntu; Linux x86_64; rv:52.0) Gecko/20100101 Firefox/52.0'\n",
        "    }\n",
        "  req = requests.get(url, headers)\n",
        "  soup = BeautifulSoup(req.content, 'html.parser')\n",
        "  title = soup.find('title').text\n",
        "  soup1 = BeautifulSoup(req.content, 'html.parser', parse_only=SoupStrainer('div',attrs={'id':'mw-content-text'}))\n",
        "  try:\n",
        "    soup1.sup.decompose()\n",
        "    soup1.sub.decompose()\n",
        "  except:\n",
        "    pass\n",
        "  hrefs = []\n",
        "  links = soup1.find_all('a', href = re.compile('/wiki/'))\n",
        "  print(\"Length of links list\" + str(len(links)))\n",
        "  for link in links:\n",
        "    if \"https://en.wikipedia.org/\"  in link:\n",
        "      \n",
        "      hrefs.append(link.get('href'))\n",
        "    else:\n",
        "      \n",
        "      hrefs.append(\"https://en.wikipedia.org/\" + link.get('href'))\n",
        "  return hrefs, title"
      ],
      "execution_count": 131,
      "outputs": []
    },
    {
      "cell_type": "code",
      "metadata": {
        "id": "FJB5MC0WfGEb",
        "colab_type": "code",
        "colab": {}
      },
      "source": [
        "\n",
        "url = \"https://en.wikipedia.org/wiki/Wikipedia:Getting_to_Philosophy\"\n"
      ],
      "execution_count": 132,
      "outputs": []
    },
    {
      "cell_type": "code",
      "metadata": {
        "id": "yy2Alg8FWzbC",
        "colab_type": "code",
        "colab": {
          "base_uri": "https://localhost:8080/",
          "height": 35
        },
        "outputId": "7c3750dc-bff1-481c-f19d-c5f7c1666a52"
      },
      "source": [
        "list_of_hrefs,  page_title = get_page_urls(url)"
      ],
      "execution_count": 133,
      "outputs": [
        {
          "output_type": "stream",
          "text": [
            "Length of links list28\n"
          ],
          "name": "stdout"
        }
      ]
    },
    {
      "cell_type": "code",
      "metadata": {
        "id": "qan4wfkHed6t",
        "colab_type": "code",
        "colab": {
          "base_uri": "https://localhost:8080/",
          "height": 1000
        },
        "outputId": "23e122fb-8af4-454d-e86a-b97c579f6506"
      },
      "source": [
        "for link in list_of_hrefs:\n",
        "  new_list , page_name = get_page_urls(link)\n",
        "  print('Link Visited :')\n",
        "  print(page_name)\n",
        "  print(link)\n",
        "  if(page_name == 'Philosophy - Wikipedia'):\n",
        "    print('Reached philosphy')\n",
        "    continue\n",
        "  in_first = set(list_of_hrefs)\n",
        "  in_second = set(new_list)\n",
        "\n",
        "  in_second_but_not_in_first = in_second - in_first\n",
        "  list_of_hrefs = list_of_hrefs + list(in_second_but_not_in_first)\n"
      ],
      "execution_count": 134,
      "outputs": [
        {
          "output_type": "stream",
          "text": [
            "Length of links list546\n",
            "Link Visited :\n",
            "Wikipedia:Shortcut - Wikipedia\n",
            "https://en.wikipedia.org//wiki/Wikipedia:Shortcut\n",
            "Length of links list48\n",
            "Link Visited :\n",
            "Point and click - Wikipedia\n",
            "https://en.wikipedia.org//wiki/Point_and_click\n",
            "Length of links list657\n",
            "Link Visited :\n",
            "Help:Link - Wikipedia\n",
            "https://en.wikipedia.org//wiki/Help:Link\n",
            "Length of links list1657\n",
            "Link Visited :\n",
            "Wikipedia - Wikipedia\n",
            "https://en.wikipedia.org//wiki/Wikipedia\n",
            "Length of links list2124\n",
            "Link Visited :\n",
            "Philosophy - Wikipedia\n",
            "https://en.wikipedia.org//wiki/Philosophy\n",
            "Reached philosphy\n",
            "Length of links list9\n",
            "Link Visited :\n",
            "File:Crawl on Wikipedia from random article to Philosophy..gif - Wikipedia\n",
            "https://en.wikipedia.org//wiki/File:Crawl_on_Wikipedia_from_random_article_to_Philosophy..gif\n",
            "Length of links list9\n",
            "Link Visited :\n",
            "File:Crawl on Wikipedia from random article to Philosophy..gif - Wikipedia\n",
            "https://en.wikipedia.org//wiki/File:Crawl_on_Wikipedia_from_random_article_to_Philosophy..gif\n",
            "Length of links list14\n",
            "Link Visited :\n",
            "File:Getting to Philosophy graph of Wikipedia articles by Pine.png - Wikipedia\n",
            "https://en.wikipedia.org//wiki/File:Getting_to_Philosophy_graph_of_Wikipedia_articles_by_Pine.png\n",
            "Length of links list14\n",
            "Link Visited :\n",
            "File:Getting to Philosophy graph of Wikipedia articles by Pine.png - Wikipedia\n",
            "https://en.wikipedia.org//wiki/File:Getting_to_Philosophy_graph_of_Wikipedia_articles_by_Pine.png\n",
            "Length of links list64\n",
            "Link Visited :\n",
            "Document classification - Wikipedia\n",
            "https://en.wikipedia.org//wiki/Document_classification\n",
            "Length of links list616\n",
            "Link Visited :\n",
            "Wikipedia:Manual of Style/Lead section - Wikipedia\n",
            "https://en.wikipedia.org//wiki/Wikipedia:MOSBEGIN\n",
            "Length of links list80\n",
            "Link Visited :\n",
            "Hannah Fry - Wikipedia\n",
            "https://en.wikipedia.org//wiki/Hannah_Fry\n",
            "Length of links list77\n",
            "Link Visited :\n",
            "Phenomenon - Wikipedia\n",
            "https://en.wikipedia.org//wiki/Phenomenon\n",
            "Length of links list0\n",
            "Link Visited :\n",
            "User:Mark J - Wikipedia\n",
            "https://en.wikipedia.org//wiki/User:Mark_J\n",
            "Length of links list14\n",
            "Link Visited :\n",
            "Wikipedia:WikipediaWeekly/Episode50 - Wikipedia\n",
            "https://en.wikipedia.org//wiki/Wikipedia:WikipediaWeekly/Episode50\n",
            "Length of links list413\n",
            "Link Visited :\n",
            "Podcast - Wikipedia\n",
            "https://en.wikipedia.org//wiki/Podcast\n",
            "Length of links list432\n",
            "Link Visited :\n",
            "Wikipedia community - Wikipedia\n",
            "https://en.wikipedia.org//wiki/Wikipedia_Weekly\n",
            "Length of links list577\n",
            "Link Visited :\n",
            "Small-world network - Wikipedia\n",
            "https://en.wikipedia.org//wiki/Small-world_network\n",
            "Length of links list223\n",
            "Link Visited :\n",
            "Erdős number - Wikipedia\n",
            "https://en.wikipedia.org//wiki/Erd%C5%91s_number\n",
            "Length of links list216\n",
            "Link Visited :\n",
            "Attractor - Wikipedia\n",
            "https://en.wikipedia.org//wiki/Attractor\n",
            "Length of links list17\n",
            "Link Visited :\n",
            "Wikipedia:Wiki Game - Wikipedia\n",
            "https://en.wikipedia.org//wiki/Wikipedia:Wiki_Game\n",
            "Length of links list8966\n",
            "Link Visited :\n",
            "User:Ilmari Karonen/First link - Wikipedia\n",
            "https://en.wikipedia.org//wiki/User:Ilmari_Karonen/First_link\n",
            "Length of links list0\n",
            "Link Visited :\n",
            "Not Found\n",
            "https://en.wikipedia.org/https://en.wikipedia.org/wiki/User:Ilmari_Karonen/First_link\n",
            "Length of links list336\n",
            "Link Visited :\n",
            "Node.js - Wikipedia\n",
            "https://en.wikipedia.org//wiki/Node.js\n",
            "Length of links list2124\n",
            "Link Visited :\n",
            "Philosophy - Wikipedia\n",
            "https://en.wikipedia.org//wiki/Philosophy\n",
            "Reached philosphy\n",
            "Length of links list151\n",
            "Link Visited :\n",
            "xkcd - Wikipedia\n",
            "https://en.wikipedia.org//wiki/Xkcd\n",
            "Length of links list97\n",
            "Link Visited :\n",
            "Tooltip - Wikipedia\n",
            "https://en.wikipedia.org//wiki/Tooltip\n",
            "Length of links list1302\n",
            "Link Visited :\n",
            "The Guardian - Wikipedia\n",
            "https://en.wikipedia.org//wiki/The_Guardian\n"
          ],
          "name": "stdout"
        }
      ]
    },
    {
      "cell_type": "code",
      "metadata": {
        "id": "YCfGLv09nNvo",
        "colab_type": "code",
        "colab": {}
      },
      "source": [
        ""
      ],
      "execution_count": null,
      "outputs": []
    }
  ]
}