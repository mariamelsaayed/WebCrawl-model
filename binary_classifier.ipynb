{
  "nbformat": 4,
  "nbformat_minor": 0,
  "metadata": {
    "colab": {
      "name": "binary_classifier",
      "provenance": []
    },
    "kernelspec": {
      "name": "python3",
      "display_name": "Python 3"
    }
  },
  "cells": [
    {
      "cell_type": "code",
      "metadata": {
        "id": "BR_QIyLXonuk",
        "colab_type": "code",
        "colab": {}
      },
      "source": [
        "import pandas as pd\n",
        "from xgboost import XGBRegressor\n"
      ],
      "execution_count": 1,
      "outputs": []
    },
    {
      "cell_type": "code",
      "metadata": {
        "id": "owQFZSygouOw",
        "colab_type": "code",
        "colab": {}
      },
      "source": [
        "train = pd.read_csv('/content/training.csv',';')\n",
        "valid = pd.read_csv('/content/validation.csv',';')\n",
        "y_train = train.classLabel\n",
        "X = list(train.columns)\n",
        "X.remove('classLabel')\n",
        "X_train = train[X]\n"
      ],
      "execution_count": 2,
      "outputs": []
    },
    {
      "cell_type": "code",
      "metadata": {
        "id": "Sy1tJTa7GCqi",
        "colab_type": "code",
        "colab": {}
      },
      "source": [
        "y_valid = valid.classLabel\n",
        "X_valid = valid[X]"
      ],
      "execution_count": 3,
      "outputs": []
    },
    {
      "cell_type": "code",
      "metadata": {
        "id": "_n1TaxEw7mms",
        "colab_type": "code",
        "colab": {
          "base_uri": "https://localhost:8080/",
          "height": 222
        },
        "outputId": "21e79a6f-4968-40d0-bc2b-f4e97d8051ac"
      },
      "source": [
        "X_train.head()"
      ],
      "execution_count": 4,
      "outputs": [
        {
          "output_type": "execute_result",
          "data": {
            "text/html": [
              "<div>\n",
              "<style scoped>\n",
              "    .dataframe tbody tr th:only-of-type {\n",
              "        vertical-align: middle;\n",
              "    }\n",
              "\n",
              "    .dataframe tbody tr th {\n",
              "        vertical-align: top;\n",
              "    }\n",
              "\n",
              "    .dataframe thead th {\n",
              "        text-align: right;\n",
              "    }\n",
              "</style>\n",
              "<table border=\"1\" class=\"dataframe\">\n",
              "  <thead>\n",
              "    <tr style=\"text-align: right;\">\n",
              "      <th></th>\n",
              "      <th>variable1</th>\n",
              "      <th>variable2</th>\n",
              "      <th>variable3</th>\n",
              "      <th>variable4</th>\n",
              "      <th>variable5</th>\n",
              "      <th>variable6</th>\n",
              "      <th>variable7</th>\n",
              "      <th>variable8</th>\n",
              "      <th>variable9</th>\n",
              "      <th>variable10</th>\n",
              "      <th>variable11</th>\n",
              "      <th>variable12</th>\n",
              "      <th>variable13</th>\n",
              "      <th>variable14</th>\n",
              "      <th>variable15</th>\n",
              "      <th>variable17</th>\n",
              "      <th>variable18</th>\n",
              "      <th>variable19</th>\n",
              "    </tr>\n",
              "  </thead>\n",
              "  <tbody>\n",
              "    <tr>\n",
              "      <th>0</th>\n",
              "      <td>a</td>\n",
              "      <td>17,92</td>\n",
              "      <td>5,4e-05</td>\n",
              "      <td>u</td>\n",
              "      <td>g</td>\n",
              "      <td>c</td>\n",
              "      <td>v</td>\n",
              "      <td>1,75</td>\n",
              "      <td>f</td>\n",
              "      <td>t</td>\n",
              "      <td>1</td>\n",
              "      <td>t</td>\n",
              "      <td>g</td>\n",
              "      <td>80.0</td>\n",
              "      <td>5</td>\n",
              "      <td>800000.0</td>\n",
              "      <td>t</td>\n",
              "      <td>0</td>\n",
              "    </tr>\n",
              "    <tr>\n",
              "      <th>1</th>\n",
              "      <td>b</td>\n",
              "      <td>16,92</td>\n",
              "      <td>3,35e-05</td>\n",
              "      <td>y</td>\n",
              "      <td>p</td>\n",
              "      <td>k</td>\n",
              "      <td>v</td>\n",
              "      <td>0,29</td>\n",
              "      <td>f</td>\n",
              "      <td>f</td>\n",
              "      <td>0</td>\n",
              "      <td>f</td>\n",
              "      <td>s</td>\n",
              "      <td>200.0</td>\n",
              "      <td>0</td>\n",
              "      <td>2000000.0</td>\n",
              "      <td>NaN</td>\n",
              "      <td>0</td>\n",
              "    </tr>\n",
              "    <tr>\n",
              "      <th>2</th>\n",
              "      <td>b</td>\n",
              "      <td>31,25</td>\n",
              "      <td>0,0001125</td>\n",
              "      <td>u</td>\n",
              "      <td>g</td>\n",
              "      <td>ff</td>\n",
              "      <td>ff</td>\n",
              "      <td>0</td>\n",
              "      <td>f</td>\n",
              "      <td>t</td>\n",
              "      <td>1</td>\n",
              "      <td>f</td>\n",
              "      <td>g</td>\n",
              "      <td>96.0</td>\n",
              "      <td>19</td>\n",
              "      <td>960000.0</td>\n",
              "      <td>t</td>\n",
              "      <td>0</td>\n",
              "    </tr>\n",
              "    <tr>\n",
              "      <th>3</th>\n",
              "      <td>a</td>\n",
              "      <td>48,17</td>\n",
              "      <td>0,0001335</td>\n",
              "      <td>u</td>\n",
              "      <td>g</td>\n",
              "      <td>i</td>\n",
              "      <td>o</td>\n",
              "      <td>0,335</td>\n",
              "      <td>f</td>\n",
              "      <td>f</td>\n",
              "      <td>0</td>\n",
              "      <td>f</td>\n",
              "      <td>g</td>\n",
              "      <td>0.0</td>\n",
              "      <td>120</td>\n",
              "      <td>0.0</td>\n",
              "      <td>NaN</td>\n",
              "      <td>0</td>\n",
              "    </tr>\n",
              "    <tr>\n",
              "      <th>4</th>\n",
              "      <td>b</td>\n",
              "      <td>32,33</td>\n",
              "      <td>0,00035</td>\n",
              "      <td>u</td>\n",
              "      <td>g</td>\n",
              "      <td>k</td>\n",
              "      <td>v</td>\n",
              "      <td>0,5</td>\n",
              "      <td>f</td>\n",
              "      <td>f</td>\n",
              "      <td>0</td>\n",
              "      <td>t</td>\n",
              "      <td>g</td>\n",
              "      <td>232.0</td>\n",
              "      <td>0</td>\n",
              "      <td>2320000.0</td>\n",
              "      <td>f</td>\n",
              "      <td>0</td>\n",
              "    </tr>\n",
              "  </tbody>\n",
              "</table>\n",
              "</div>"
            ],
            "text/plain": [
              "  variable1 variable2  variable3  ... variable17 variable18 variable19\n",
              "0         a     17,92    5,4e-05  ...   800000.0          t          0\n",
              "1         b     16,92   3,35e-05  ...  2000000.0        NaN          0\n",
              "2         b     31,25  0,0001125  ...   960000.0          t          0\n",
              "3         a     48,17  0,0001335  ...        0.0        NaN          0\n",
              "4         b     32,33    0,00035  ...  2320000.0          f          0\n",
              "\n",
              "[5 rows x 18 columns]"
            ]
          },
          "metadata": {
            "tags": []
          },
          "execution_count": 4
        }
      ]
    },
    {
      "cell_type": "code",
      "metadata": {
        "id": "6xtfgRuwISna",
        "colab_type": "code",
        "colab": {
          "base_uri": "https://localhost:8080/",
          "height": 222
        },
        "outputId": "6f75ac85-e561-44bc-95fa-9048fe748ac1"
      },
      "source": [
        "X_valid.head()"
      ],
      "execution_count": 5,
      "outputs": [
        {
          "output_type": "execute_result",
          "data": {
            "text/html": [
              "<div>\n",
              "<style scoped>\n",
              "    .dataframe tbody tr th:only-of-type {\n",
              "        vertical-align: middle;\n",
              "    }\n",
              "\n",
              "    .dataframe tbody tr th {\n",
              "        vertical-align: top;\n",
              "    }\n",
              "\n",
              "    .dataframe thead th {\n",
              "        text-align: right;\n",
              "    }\n",
              "</style>\n",
              "<table border=\"1\" class=\"dataframe\">\n",
              "  <thead>\n",
              "    <tr style=\"text-align: right;\">\n",
              "      <th></th>\n",
              "      <th>variable1</th>\n",
              "      <th>variable2</th>\n",
              "      <th>variable3</th>\n",
              "      <th>variable4</th>\n",
              "      <th>variable5</th>\n",
              "      <th>variable6</th>\n",
              "      <th>variable7</th>\n",
              "      <th>variable8</th>\n",
              "      <th>variable9</th>\n",
              "      <th>variable10</th>\n",
              "      <th>variable11</th>\n",
              "      <th>variable12</th>\n",
              "      <th>variable13</th>\n",
              "      <th>variable14</th>\n",
              "      <th>variable15</th>\n",
              "      <th>variable17</th>\n",
              "      <th>variable18</th>\n",
              "      <th>variable19</th>\n",
              "    </tr>\n",
              "  </thead>\n",
              "  <tbody>\n",
              "    <tr>\n",
              "      <th>0</th>\n",
              "      <td>b</td>\n",
              "      <td>32,33</td>\n",
              "      <td>0,00075</td>\n",
              "      <td>u</td>\n",
              "      <td>g</td>\n",
              "      <td>e</td>\n",
              "      <td>bb</td>\n",
              "      <td>1,585</td>\n",
              "      <td>t</td>\n",
              "      <td>f</td>\n",
              "      <td>0</td>\n",
              "      <td>t</td>\n",
              "      <td>s</td>\n",
              "      <td>420.0</td>\n",
              "      <td>0</td>\n",
              "      <td>4200000.0</td>\n",
              "      <td>NaN</td>\n",
              "      <td>1</td>\n",
              "    </tr>\n",
              "    <tr>\n",
              "      <th>1</th>\n",
              "      <td>b</td>\n",
              "      <td>23,58</td>\n",
              "      <td>0,000179</td>\n",
              "      <td>u</td>\n",
              "      <td>g</td>\n",
              "      <td>c</td>\n",
              "      <td>v</td>\n",
              "      <td>0,54</td>\n",
              "      <td>f</td>\n",
              "      <td>f</td>\n",
              "      <td>0</td>\n",
              "      <td>t</td>\n",
              "      <td>g</td>\n",
              "      <td>136.0</td>\n",
              "      <td>1</td>\n",
              "      <td>1360000.0</td>\n",
              "      <td>NaN</td>\n",
              "      <td>0</td>\n",
              "    </tr>\n",
              "    <tr>\n",
              "      <th>2</th>\n",
              "      <td>b</td>\n",
              "      <td>36,42</td>\n",
              "      <td>7,5e-05</td>\n",
              "      <td>y</td>\n",
              "      <td>p</td>\n",
              "      <td>d</td>\n",
              "      <td>v</td>\n",
              "      <td>0,585</td>\n",
              "      <td>f</td>\n",
              "      <td>f</td>\n",
              "      <td>0</td>\n",
              "      <td>f</td>\n",
              "      <td>g</td>\n",
              "      <td>240.0</td>\n",
              "      <td>3</td>\n",
              "      <td>2400000.0</td>\n",
              "      <td>NaN</td>\n",
              "      <td>1</td>\n",
              "    </tr>\n",
              "    <tr>\n",
              "      <th>3</th>\n",
              "      <td>b</td>\n",
              "      <td>18,42</td>\n",
              "      <td>0,0010415</td>\n",
              "      <td>y</td>\n",
              "      <td>p</td>\n",
              "      <td>aa</td>\n",
              "      <td>v</td>\n",
              "      <td>0,125</td>\n",
              "      <td>t</td>\n",
              "      <td>f</td>\n",
              "      <td>0</td>\n",
              "      <td>f</td>\n",
              "      <td>g</td>\n",
              "      <td>120.0</td>\n",
              "      <td>375</td>\n",
              "      <td>1200000.0</td>\n",
              "      <td>NaN</td>\n",
              "      <td>0</td>\n",
              "    </tr>\n",
              "    <tr>\n",
              "      <th>4</th>\n",
              "      <td>b</td>\n",
              "      <td>24,5</td>\n",
              "      <td>0,0013335</td>\n",
              "      <td>y</td>\n",
              "      <td>p</td>\n",
              "      <td>aa</td>\n",
              "      <td>v</td>\n",
              "      <td>0,04</td>\n",
              "      <td>f</td>\n",
              "      <td>f</td>\n",
              "      <td>0</td>\n",
              "      <td>t</td>\n",
              "      <td>g</td>\n",
              "      <td>120.0</td>\n",
              "      <td>475</td>\n",
              "      <td>1200000.0</td>\n",
              "      <td>f</td>\n",
              "      <td>1</td>\n",
              "    </tr>\n",
              "  </tbody>\n",
              "</table>\n",
              "</div>"
            ],
            "text/plain": [
              "  variable1 variable2  variable3  ... variable17 variable18 variable19\n",
              "0         b     32,33    0,00075  ...  4200000.0        NaN          1\n",
              "1         b     23,58   0,000179  ...  1360000.0        NaN          0\n",
              "2         b     36,42    7,5e-05  ...  2400000.0        NaN          1\n",
              "3         b     18,42  0,0010415  ...  1200000.0        NaN          0\n",
              "4         b      24,5  0,0013335  ...  1200000.0          f          1\n",
              "\n",
              "[5 rows x 18 columns]"
            ]
          },
          "metadata": {
            "tags": []
          },
          "execution_count": 5
        }
      ]
    },
    {
      "cell_type": "code",
      "metadata": {
        "id": "yFGb98dXIc-l",
        "colab_type": "code",
        "colab": {
          "base_uri": "https://localhost:8080/",
          "height": 72
        },
        "outputId": "a8bb7b37-7083-4d38-e8f9-00bca5280008"
      },
      "source": [
        "# Get list of categorical variables\n",
        "s = (X_train.dtypes == 'object')\n",
        "object_cols = list(s[s].index)\n",
        "\n",
        "print(\"Categorical variables:\")\n",
        "print(object_cols)"
      ],
      "execution_count": 6,
      "outputs": [
        {
          "output_type": "stream",
          "text": [
            "Categorical variables:\n",
            "['variable1', 'variable2', 'variable3', 'variable4', 'variable5', 'variable6', 'variable7', 'variable8', 'variable9', 'variable10', 'variable12', 'variable13', 'variable18']\n"
          ],
          "name": "stdout"
        }
      ]
    },
    {
      "cell_type": "markdown",
      "metadata": {
        "id": "CAzQC3gGK24K",
        "colab_type": "text"
      },
      "source": [
        "The columns variable2, variable3, variable8 needs to be modified to be in it's numerical value so we would encode the categorical columns.\n",
        "\n",
        "i was going to go basic and use random forrest,XGBoost and naive baissan as it's a binary classification problem with cross-validation \n",
        "and compare the results. \n",
        "\n",
        "\n",
        "\n"
      ]
    },
    {
      "cell_type": "code",
      "metadata": {
        "id": "W6jyf75b9ayx",
        "colab_type": "code",
        "colab": {}
      },
      "source": [
        ""
      ],
      "execution_count": null,
      "outputs": []
    },
    {
      "cell_type": "code",
      "metadata": {
        "id": "zEkNkpR6Js31",
        "colab_type": "code",
        "colab": {}
      },
      "source": [
        ""
      ],
      "execution_count": null,
      "outputs": []
    }
  ]
}